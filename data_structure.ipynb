{
 "cells": [
  {
   "cell_type": "code",
   "execution_count": 5,
   "metadata": {},
   "outputs": [
    {
     "name": "stdout",
     "output_type": "stream",
     "text": [
      "[3, -1, 5, 0, 7, 4, 9, 1]에서 가장 큰 두 값: [9, 7]\n",
      "[7]에서 가장 큰 두 값: [7]\n"
     ]
    }
   ],
   "source": [
    "def find_max_two(arr: list[int]) -> list[int]:\n",
    "    if len(arr) < 2:\n",
    "        return arr\n",
    "    max1, max2 = arr[:2]\n",
    "    if max2 > max1:\n",
    "        max1, max2 = max2, max1\n",
    "    for n in arr[2:]:\n",
    "        if n > max1:\n",
    "            max1, max2 = n, max1\n",
    "        elif n > max2:\n",
    "            max2 = n\n",
    "    return [max1, max2]\n",
    "\n",
    "\n",
    "# Test code\n",
    "arr = [[3, -1, 5, 0, 7, 4, 9, 1], [7]]\n",
    "for a in arr:\n",
    "    print(f\"{a}에서 가장 큰 두 값: {find_max_two(a)}\")"
   ]
  }
 ],
 "metadata": {
  "kernelspec": {
   "display_name": "Python 3",
   "language": "python",
   "name": "python3"
  },
  "language_info": {
   "codemirror_mode": {
    "name": "ipython",
    "version": 3
   },
   "file_extension": ".py",
   "mimetype": "text/x-python",
   "name": "python",
   "nbconvert_exporter": "python",
   "pygments_lexer": "ipython3",
   "version": "3.9.13"
  }
 },
 "nbformat": 4,
 "nbformat_minor": 2
}
