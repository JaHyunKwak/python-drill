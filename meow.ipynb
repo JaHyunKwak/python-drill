{
 "cells": [
  {
   "cell_type": "code",
   "execution_count": 14,
   "metadata": {},
   "outputs": [
    {
     "name": "stdout",
     "output_type": "stream",
     "text": [
      "이름 - 유미\n",
      "레벨 - 6\n",
      "체력 - 950\n",
      "대사 - 나랑 유미랑!\n"
     ]
    }
   ],
   "source": [
    "champ_name = \"유미\"\n",
    "champ_level = 6\n",
    "champ_hp = 950\n",
    "champ_line = \"나랑 유미랑!\"\n",
    "\n",
    "print(\"이름 -\", champ_name)\n",
    "print(\"레벨 -\", str(champ_level))\n",
    "print(\"체력 -\", str(champ_hp))\n",
    "print(\"대사 -\", champ_line)"
   ]
  },
  {
   "cell_type": "code",
   "execution_count": 6,
   "metadata": {},
   "outputs": [
    {
     "name": "stdout",
     "output_type": "stream",
     "text": [
      "받아라 몬스터볼~! 파이리 넌 내꺼야!\n"
     ]
    }
   ],
   "source": [
    "pokemon = \"파이리\"\n",
    "print(f\"받아라 몬스터볼~! {pokemon} 넌 내꺼야!\")"
   ]
  },
  {
   "cell_type": "code",
   "execution_count": 12,
   "metadata": {},
   "outputs": [],
   "source": [
    "이름 = input(\"포켓몬 이름을 입력하세요:\", )\n",
    "레벨 = input(\"레벨을 입력하세요:\", )"
   ]
  },
  {
   "cell_type": "code",
   "execution_count": 13,
   "metadata": {},
   "outputs": [
    {
     "name": "stdout",
     "output_type": "stream",
     "text": [
      "[포켓몬 정보] \n",
      "이름 : 이상해씨 \n",
      "레벨 : 8\n"
     ]
    }
   ],
   "source": [
    "print(f\"[포켓몬 정보] \\n이름 : {이름} \\n레벨 : {레벨}\")"
   ]
  },
  {
   "cell_type": "code",
   "execution_count": 9,
   "metadata": {},
   "outputs": [
    {
     "name": "stdout",
     "output_type": "stream",
     "text": [
      "[포켓몬 정보] \n",
      "이름 : 이상해씨 \n",
      "레벨 : 8\n"
     ]
    }
   ],
   "source": [
    "class Pokemon:\n",
    "    def __init__(self, name, level):\n",
    "        self.name = name\n",
    "        self.level = level\n",
    "    def say(self):\n",
    "        print(f\"[포켓몬 정보] \\n이름 : {self.name} \\n레벨 : {self.level}\")\n",
    "\n",
    "이상해씨 = Pokemon(\"이상해씨\", 8)\n",
    "이상해씨.say()"
   ]
  },
  {
   "cell_type": "code",
   "execution_count": 18,
   "metadata": {},
   "outputs": [
    {
     "name": "stdout",
     "output_type": "stream",
     "text": [
      "비밀번호를 입력하시오\n"
     ]
    }
   ],
   "source": [
    "origin_pass = \"1234\"\n",
    "input_pass = input()\n",
    "if origin_pass == input_pass:\n",
    "    print(\"로그인 성공\")\n",
    "elif input_pass == \"\":\n",
    "    print(\"비밀번호를 입력하시오\")\n",
    "else:\n",
    "    print(\"다시 입력하시오\")"
   ]
  },
  {
   "cell_type": "code",
   "execution_count": 21,
   "metadata": {},
   "outputs": [
    {
     "name": "stdout",
     "output_type": "stream",
     "text": [
      "수익 창출이 불가능합니다!\n"
     ]
    }
   ],
   "source": [
    "current_sub = int(input(\"현재 구독자 수를 입력하세요:\",))\n",
    "if current_sub >= 1000:\n",
    "    print(\"수익 창출이 가능합니다.\")\n",
    "else:\n",
    "    print(\"수익 창출이 불가능합니다!\")\n"
   ]
  },
  {
   "cell_type": "code",
   "execution_count": 28,
   "metadata": {},
   "outputs": [
    {
     "name": "stdout",
     "output_type": "stream",
     "text": [
      "휴대폰 잠금이 해제 됩니다.\n"
     ]
    }
   ],
   "source": [
    "study_time = int(input(\"공부시간을 입력하세요(시간):\",))\n",
    "if study_time >= 10:\n",
    "    print(\"휴대폰 잠금이 해제 됩니다.\")\n",
    "elif study_time >= 5:\n",
    "    print(\"휴대폰을 30분간 사용가능합니다.\")\n",
    "else:\n",
    "    print(\"휴대폰 사용이 불가능합니다.\")"
   ]
  },
  {
   "cell_type": "code",
   "execution_count": 31,
   "metadata": {},
   "outputs": [
    {
     "name": "stdout",
     "output_type": "stream",
     "text": [
      "1번째 강아지 \n",
      "강아지를 위한 장난감 준비 중 \n",
      "장난감 준비 완료\n",
      "\n",
      "2번째 강아지 \n",
      "강아지를 위한 장난감 준비 중 \n",
      "장난감 준비 완료\n",
      "\n",
      "3번째 강아지 \n",
      "강아지를 위한 장난감 준비 중 \n",
      "장난감 준비 완료\n",
      "\n"
     ]
    }
   ],
   "source": [
    "for i in range(3):\n",
    "    print(f\"{i+1}번째 강아지 \\n강아지를 위한 장난감 준비 중 \\n장난감 준비 완료\\n\")"
   ]
  },
  {
   "cell_type": "code",
   "execution_count": 35,
   "metadata": {},
   "outputs": [
    {
     "name": "stdout",
     "output_type": "stream",
     "text": [
      "55\n"
     ]
    }
   ],
   "source": [
    "total = 0\n",
    "for i in range(11):\n",
    "    total += i\n",
    "print(total)"
   ]
  },
  {
   "cell_type": "code",
   "execution_count": 36,
   "metadata": {},
   "outputs": [
    {
     "name": "stdout",
     "output_type": "stream",
     "text": [
      "hello world\n",
      "hello world\n",
      "hello world\n"
     ]
    }
   ],
   "source": [
    "i=0\n",
    "while i<3:\n",
    "    print(\"hello world\")\n",
    "    i += 1"
   ]
  },
  {
   "cell_type": "code",
   "execution_count": null,
   "metadata": {},
   "outputs": [],
   "source": [
    "k=int(input(\"몇 단을 출력할까요?:\",))\n",
    "i=1\n",
    "while i<10:\n",
    "    print(f\"{k}*{i}={k*i}\")\n",
    "    i += 1"
   ]
  },
  {
   "cell_type": "code",
   "execution_count": null,
   "metadata": {},
   "outputs": [],
   "source": [
    "k=int(input(\"몇 단을 출력할까요?:\",))\n",
    "for i in range(1,10):\n",
    "    print(f\"{k}*{i}={k*i}\")"
   ]
  },
  {
   "cell_type": "code",
   "execution_count": 1,
   "metadata": {},
   "outputs": [
    {
     "name": "stdout",
     "output_type": "stream",
     "text": [
      "로그인 실패!\n",
      "로그인 실패!\n",
      "로그인 성공!\n"
     ]
    }
   ],
   "source": [
    "original_pass = \"1234\"\n",
    "while True:\n",
    "    input_pass = input(\"비밀번호를 입력하세요 :\",)\n",
    "    if input_pass == original_pass:\n",
    "        print(\"로그인 성공!\")\n",
    "        break\n",
    "    else:\n",
    "        print(\"로그인 실패!\")"
   ]
  },
  {
   "cell_type": "code",
   "execution_count": 2,
   "metadata": {},
   "outputs": [
    {
     "data": {
      "text/plain": [
       "['삼성전자', 'SK하이닉스', '네이버']"
      ]
     },
     "execution_count": 2,
     "metadata": {},
     "output_type": "execute_result"
    }
   ],
   "source": [
    "company_list = [\"삼성전자\", \"SK하이닉스\", \"네이버\"]\n",
    "company_list"
   ]
  },
  {
   "cell_type": "code",
   "execution_count": 5,
   "metadata": {},
   "outputs": [
    {
     "name": "stdout",
     "output_type": "stream",
     "text": [
      "삼성전자\n",
      "SK하이닉스"
     ]
    },
    {
     "data": {
      "text/plain": [
       "'네이버'"
      ]
     },
     "execution_count": 5,
     "metadata": {},
     "output_type": "execute_result"
    }
   ],
   "source": [
    "print(company_list[0])\n",
    "print(company_list[1])\n",
    "company_list[2]"
   ]
  },
  {
   "cell_type": "code",
   "execution_count": 7,
   "metadata": {},
   "outputs": [
    {
     "data": {
      "text/plain": [
       "['애플', 'SK하이닉스', '네이버']"
      ]
     },
     "execution_count": 7,
     "metadata": {},
     "output_type": "execute_result"
    }
   ],
   "source": [
    "company_list[0] = \"애플\"\n",
    "company_list"
   ]
  },
  {
   "cell_type": "code",
   "execution_count": 8,
   "metadata": {},
   "outputs": [
    {
     "data": {
      "text/plain": [
       "['애플', 'SK하이닉스', '네이버', '마이크로소프트']"
      ]
     },
     "execution_count": 8,
     "metadata": {},
     "output_type": "execute_result"
    }
   ],
   "source": [
    "company_list.append(\"마이크로소프트\")\n",
    "company_list"
   ]
  },
  {
   "cell_type": "code",
   "execution_count": 9,
   "metadata": {},
   "outputs": [
    {
     "data": {
      "text/plain": [
       "['SK하이닉스', '네이버', '마이크로소프트']"
      ]
     },
     "execution_count": 9,
     "metadata": {},
     "output_type": "execute_result"
    }
   ],
   "source": [
    "del company_list[0]\n",
    "company_list"
   ]
  },
  {
   "cell_type": "code",
   "execution_count": 10,
   "metadata": {},
   "outputs": [
    {
     "data": {
      "text/plain": [
       "3"
      ]
     },
     "execution_count": 10,
     "metadata": {},
     "output_type": "execute_result"
    }
   ],
   "source": [
    "len(company_list)"
   ]
  },
  {
   "cell_type": "code",
   "execution_count": 15,
   "metadata": {},
   "outputs": [
    {
     "data": {
      "text/plain": [
       "[1, 2, 3, 4]"
      ]
     },
     "execution_count": 15,
     "metadata": {},
     "output_type": "execute_result"
    }
   ],
   "source": [
    "num_list = [1,2,3,4,5,6,7,8]\n",
    "num_list[:2]\n",
    "num_list[::2]\n",
    "num_list[1::3]\n",
    "num_list[:4]"
   ]
  },
  {
   "cell_type": "code",
   "execution_count": 17,
   "metadata": {},
   "outputs": [
    {
     "name": "stdout",
     "output_type": "stream",
     "text": [
      "대검을(를) 획득하였습니다.\n",
      "창닫기\n",
      "포션을(를) 획득하였습니다.\n",
      "창닫기\n",
      "마법서을(를) 획득하였습니다.\n",
      "창닫기\n"
     ]
    }
   ],
   "source": [
    "inventory = [\"대검\", \"포션\", \"마법서\"]\n",
    "for item in inventory:\n",
    "    print(f\"{item}을(를) 획득하였습니다.\")\n",
    "    print(\"창닫기\")"
   ]
  },
  {
   "cell_type": "code",
   "execution_count": 22,
   "metadata": {},
   "outputs": [
    {
     "data": {
      "text/plain": [
       "'포션'"
      ]
     },
     "execution_count": 22,
     "metadata": {},
     "output_type": "execute_result"
    }
   ],
   "source": [
    "game_map = [\n",
    "    [\"대검\", \"포션\", None],\n",
    "    [None, \"보물상자\", \"포션\"],\n",
    "    [\"몬스터\", None, \"열쇠\"]\n",
    "]\n",
    "type(game_map[0][2])\n",
    "game_map[1][2]"
   ]
  },
  {
   "cell_type": "code",
   "execution_count": 29,
   "metadata": {},
   "outputs": [
    {
     "name": "stdout",
     "output_type": "stream",
     "text": [
      "최고점수:200\n"
     ]
    }
   ],
   "source": [
    "scores = [120,150,180,200,170]\n",
    "max_score = 0\n",
    "for i in scores:\n",
    "    if max_score < i:\n",
    "        max_score = i\n",
    "print(f\"최고점수 : {max_score}\")"
   ]
  },
  {
   "cell_type": "code",
   "execution_count": 45,
   "metadata": {},
   "outputs": [
    {
     "data": {
      "text/plain": [
       "200"
      ]
     },
     "execution_count": 45,
     "metadata": {},
     "output_type": "execute_result"
    }
   ],
   "source": [
    "max(scores)"
   ]
  },
  {
   "cell_type": "code",
   "execution_count": 4,
   "metadata": {},
   "outputs": [
    {
     "name": "stdout",
     "output_type": "stream",
     "text": [
      "총 수집한 아이템 수 : 15\n"
     ]
    }
   ],
   "source": [
    "room = [\n",
    "    [3,1,2],\n",
    "    [2,0,1],\n",
    "    [1,3,2]\n",
    "]\n",
    "sum_1 = []\n",
    "sum_2 = 0\n",
    "for i in room:\n",
    "    sum_1 += i\n",
    "for i in sum_1:\n",
    "    sum_2 += i\n",
    "print(f\"총 수집한 아이템 수 : {sum_2}\")"
   ]
  },
  {
   "cell_type": "code",
   "execution_count": 5,
   "metadata": {},
   "outputs": [
    {
     "name": "stdout",
     "output_type": "stream",
     "text": [
      "15\n"
     ]
    }
   ],
   "source": [
    "total = 0\n",
    "for i in rooms:\n",
    "    total += sum(i)\n",
    "print(total)"
   ]
  },
  {
   "cell_type": "code",
   "execution_count": 7,
   "metadata": {},
   "outputs": [
    {
     "data": {
      "text/plain": [
       "('스쿼트', '런지', '레그컬')"
      ]
     },
     "execution_count": 7,
     "metadata": {},
     "output_type": "execute_result"
    }
   ],
   "source": [
    "#튜플\n",
    "leg_day = ('스쿼트', '런지', '레그컬')\n",
    "leg_day"
   ]
  },
  {
   "cell_type": "code",
   "execution_count": 8,
   "metadata": {},
   "outputs": [
    {
     "ename": "AttributeError",
     "evalue": "'tuple' object has no attribute 'append'",
     "output_type": "error",
     "traceback": [
      "\u001b[1;31m---------------------------------------------------------------------------\u001b[0m",
      "\u001b[1;31mAttributeError\u001b[0m                            Traceback (most recent call last)",
      "Cell \u001b[1;32mIn[8], line 1\u001b[0m\n\u001b[1;32m----> 1\u001b[0m \u001b[43mleg_day\u001b[49m\u001b[38;5;241;43m.\u001b[39;49m\u001b[43mappend\u001b[49m(\u001b[38;5;124m'\u001b[39m\u001b[38;5;124m숄더프레스\u001b[39m\u001b[38;5;124m'\u001b[39m)\n",
      "\u001b[1;31mAttributeError\u001b[0m: 'tuple' object has no attribute 'append'"
     ]
    }
   ],
   "source": [
    "leg_day.append('숄더프레스')"
   ]
  },
  {
   "cell_type": "code",
   "execution_count": 9,
   "metadata": {},
   "outputs": [
    {
     "data": {
      "text/plain": [
       "{'삼성전자': 81000, 'SK하이닉스': 140000, '네이버': 350000}"
      ]
     },
     "execution_count": 9,
     "metadata": {},
     "output_type": "execute_result"
    }
   ],
   "source": [
    "#딕셔너리\n",
    "stock_prices = {\n",
    "    '삼성전자' : 81000,\n",
    "    'SK하이닉스' : 140000,\n",
    "    '네이버' : 350000\n",
    "}\n",
    "stock_prices"
   ]
  },
  {
   "cell_type": "code",
   "execution_count": 11,
   "metadata": {},
   "outputs": [
    {
     "data": {
      "text/plain": [
       "350000"
      ]
     },
     "execution_count": 11,
     "metadata": {},
     "output_type": "execute_result"
    }
   ],
   "source": [
    "stock_prices['삼성전자']\n",
    "stock_prices['네이버']"
   ]
  },
  {
   "cell_type": "code",
   "execution_count": 18,
   "metadata": {},
   "outputs": [
    {
     "name": "stdout",
     "output_type": "stream",
     "text": [
      "삼성전자\n",
      "SK하이닉스\n",
      "네이버\n"
     ]
    }
   ],
   "source": [
    "for i in stock_prices.keys():\n",
    "    print(i)"
   ]
  },
  {
   "cell_type": "code",
   "execution_count": 13,
   "metadata": {},
   "outputs": [
    {
     "name": "stdout",
     "output_type": "stream",
     "text": [
      "81000\n",
      "140000\n",
      "350000\n"
     ]
    }
   ],
   "source": [
    "for value in stock_prices.values():\n",
    "    print(value)"
   ]
  },
  {
   "cell_type": "code",
   "execution_count": 19,
   "metadata": {},
   "outputs": [
    {
     "name": "stdout",
     "output_type": "stream",
     "text": [
      "삼성전자\n",
      "81000\n",
      "삼성전자 81000\n",
      "SK하이닉스\n",
      "140000\n",
      "SK하이닉스 140000\n",
      "네이버\n",
      "350000\n",
      "네이버 350000\n"
     ]
    }
   ],
   "source": [
    "for key, value in stock_prices.items():\n",
    "    print(key)\n",
    "    print(value)\n",
    "    print(key, value)"
   ]
  },
  {
   "cell_type": "code",
   "execution_count": 20,
   "metadata": {},
   "outputs": [
    {
     "name": "stdout",
     "output_type": "stream",
     "text": [
      "삼성전자\n",
      "81000\n",
      "삼성전자 81000\n",
      "SK하이닉스\n",
      "140000\n",
      "SK하이닉스 140000\n",
      "네이버\n",
      "350000\n",
      "네이버 350000\n"
     ]
    }
   ],
   "source": [
    "for i, j in stock_prices.items():\n",
    "    print(i)\n",
    "    print(j)\n",
    "    print(i, j)"
   ]
  },
  {
   "cell_type": "code",
   "execution_count": 51,
   "metadata": {},
   "outputs": [
    {
     "name": "stdout",
     "output_type": "stream",
     "text": [
      "삼성전자 평균 주식 가격:81500\n",
      "SK하이닉스 평균 주식 가격:140166\n",
      "네이버 평균 주식 가격:350000\n"
     ]
    }
   ],
   "source": [
    "stock_price = {\n",
    "    '삼성전자' : [81000, 81500, 82000],\n",
    "    'SK하이닉스' : [140000, 141000, 139500],\n",
    "    '네이버' : [350000, 355000, 345000]\n",
    "}\n",
    "\n",
    "for i, j in stock_price.items():\n",
    "    print(f\"{i} 평균 주식 가격:{int(sum(j)/len(j))}\")"
   ]
  },
  {
   "cell_type": "code",
   "execution_count": 50,
   "metadata": {},
   "outputs": [
    {
     "name": "stdout",
     "output_type": "stream",
     "text": [
      "삼성전자-최고가: 85000, 최저가: 80000\n",
      "SK하이닉스-최고가: 145000, 최저가: 139000\n",
      "네이버-최고가: 360000, 최저가: 340000\n"
     ]
    }
   ],
   "source": [
    "stock_info = {\n",
    "    '삼성전자' : {'최고가':85000, '최저가':80000, '현재가':82000},\n",
    "    'SK하이닉스' : {'최고가':145000,'최저가':139000, '현재가':140500},\n",
    "    '네이버' : {'최고가': 360000,'최저가':340000, '현재가':350000}\n",
    "}\n",
    "\n",
    "for i,j in stock_info.items():\n",
    "    print(f\"{i}-최고가: {j['최고가']}, 최저가: {j['최저가']}\")"
   ]
  },
  {
   "cell_type": "code",
   "execution_count": 54,
   "metadata": {},
   "outputs": [
    {
     "name": "stdout",
     "output_type": "stream",
     "text": [
      "치즈와불닭을(를) 이용해서 맛있는 요리를 시작합니다.\n",
      "요리 완료!\n"
     ]
    },
    {
     "data": {
      "text/plain": [
       "'치즈불닭볶음밥'"
      ]
     },
     "execution_count": 54,
     "metadata": {},
     "output_type": "execute_result"
    }
   ],
   "source": [
    "def easy_recipe(a,b):\n",
    "    print(f\"{a}와{b}을(를) 이용해서 맛있는 요리를 시작합니다.\")\n",
    "    result = a+b+'볶음밥'\n",
    "    print(\"요리 완료!\")\n",
    "    return result\n",
    "\n",
    "dish = easy_recipe(\"치즈\",\"불닭\")\n",
    "dish"
   ]
  },
  {
   "cell_type": "code",
   "execution_count": 60,
   "metadata": {},
   "outputs": [
    {
     "data": {
      "text/plain": [
       "15000.0"
      ]
     },
     "execution_count": 60,
     "metadata": {},
     "output_type": "execute_result"
    }
   ],
   "source": [
    "def cal_average_gold(a,b,c):\n",
    "    result = (a+b+c)/3\n",
    "    return result\n",
    "\n",
    "cal_average_gold(12000,15000,18000)"
   ]
  },
  {
   "cell_type": "code",
   "execution_count": 61,
   "metadata": {},
   "outputs": [
    {
     "data": {
      "text/plain": [
       "8.5"
      ]
     },
     "execution_count": 61,
     "metadata": {},
     "output_type": "execute_result"
    }
   ],
   "source": [
    "def cal_kda(kill,death,assist):\n",
    "    result = (kill+assist)/death\n",
    "    return result\n",
    "\n",
    "cal_kda(10,2,7)"
   ]
  }
 ],
 "metadata": {
  "kernelspec": {
   "display_name": "Python 3",
   "language": "python",
   "name": "python3"
  },
  "language_info": {
   "codemirror_mode": {
    "name": "ipython",
    "version": 3
   },
   "file_extension": ".py",
   "mimetype": "text/x-python",
   "name": "python",
   "nbconvert_exporter": "python",
   "pygments_lexer": "ipython3",
   "version": "3.9.13"
  }
 },
 "nbformat": 4,
 "nbformat_minor": 2
}
